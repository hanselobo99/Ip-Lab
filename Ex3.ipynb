{
 "cells": [
  {
   "cell_type": "code",
   "execution_count": null,
   "id": "7a002dea",
   "metadata": {},
   "outputs": [],
   "source": [
    "# Write a python program to Enhance an image using Image\n",
    "# Arithmetic and Logical Operations"
   ]
  },
  {
   "cell_type": "code",
   "execution_count": null,
   "id": "2eebffcd",
   "metadata": {},
   "outputs": [],
   "source": [
    "import cv2\n",
    "import matplotlib.pyplot as plt\n",
    "image1 = cv2.imread(r\"/home/hansel/ip/Images/image2.jpg\")\n",
    "image2 = cv2.imread(r\"/home/hansel/ip/Images/image4.jpg\")\n",
    "img1 = cv2.resize(image1,(300,400))\n",
    "img2 = cv2.resize(image2,(300,400))\n",
    "cv2.imshow(\"Orginal_img1\",img1)\n",
    "cv2.imshow(\"Orginal_img2\",img2)\n",
    "\n",
    "add = cv2.add(img1,img2)\n",
    "cv2.imshow('Added Image',add)\n",
    "\n",
    "addWeighted = cv2.addWeighted(img1,0.4,img2,0.5,0)\n",
    "cv2.imshow('Weighted_add',addWeighted)\n",
    "\n",
    "subtract = cv2.subtract(img1,img2,mask=None)\n",
    "cv2.imshow('Sub_img',subtract)\n",
    "\n",
    "bitwise_and = cv2.bitwise_and(img1,img2,mask=None)\n",
    "cv2.imshow('Bitwise_and',bitwise_and)\n",
    "\n",
    "bitwise_or = cv2.bitwise_or(img1,img2,mask=None)\n",
    "cv2.imshow('Bitwise_or',bitwise_or)\n",
    "\n",
    "bitwise_not = cv2.bitwise_not(img1,img2,mask=None)\n",
    "cv2.imshow('Bitwise_not',bitwise_not)\n",
    "\n",
    "\n",
    "cv2.waitKey(0)"
   ]
  },
  {
   "cell_type": "code",
   "execution_count": null,
   "id": "af5295b4",
   "metadata": {},
   "outputs": [],
   "source": []
  },
  {
   "cell_type": "code",
   "execution_count": null,
   "id": "718e5953",
   "metadata": {},
   "outputs": [],
   "source": []
  }
 ],
 "metadata": {
  "kernelspec": {
   "display_name": "Python 3 (ipykernel)",
   "language": "python",
   "name": "python3"
  },
  "language_info": {
   "codemirror_mode": {
    "name": "ipython",
    "version": 3
   },
   "file_extension": ".py",
   "mimetype": "text/x-python",
   "name": "python",
   "nbconvert_exporter": "python",
   "pygments_lexer": "ipython3",
   "version": "3.10.4"
  }
 },
 "nbformat": 4,
 "nbformat_minor": 5
}
